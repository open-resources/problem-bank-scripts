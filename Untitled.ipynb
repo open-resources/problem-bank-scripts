{
 "cells": [
  {
   "cell_type": "code",
   "execution_count": 1,
   "metadata": {},
   "outputs": [],
   "source": [
    "import pandas as pd\n",
    "from src.problem_bank_scripts import problem_bank_scripts as pbs\n",
    "import json\n",
    "import pathlib"
   ]
  },
  {
   "cell_type": "code",
   "execution_count": 2,
   "metadata": {},
   "outputs": [
    {
     "data": {
      "text/plain": [
       "'/Users/firasm/Sync/EL/Physics OER Bank/problem_bank_scripts'"
      ]
     },
     "execution_count": 2,
     "metadata": {},
     "output_type": "execute_result"
    }
   ],
   "source": [
    "pwd"
   ]
  },
  {
   "cell_type": "raw",
   "metadata": {},
   "source": [
    "data = {}\n",
    "from collections import defaultdict\n",
    "nested_dict = lambda: defaultdict(nested_dict)\n"
   ]
  },
  {
   "cell_type": "raw",
   "metadata": {},
   "source": [
    "def generate(data):\n",
    "    \n",
    "    data2 = nested_dict()\n",
    "    \n",
    "    v = 100\n",
    "    t = 5 \n",
    "\n",
    "    # define possible answers\n",
    "    data2[\"params\"][\"part1\"][\"ans1\"][\"value\"] = 42\n",
    "    data2[\"params\"][\"part1\"][\"ans2\"][\"value\"] = v*t\n",
    "    data2[\"params\"][\"part1\"][\"ans3\"][\"value\"] = v+t\n",
    "    data2[\"params\"][\"part1\"][\"ans4\"][\"value\"] = v/t\n",
    "    data2[\"params\"][\"part1\"][\"ans5\"][\"value\"] = v-t\n",
    "    data2[\"params\"][\"part1\"][\"ans6\"][\"value\"] = 1.3*(v-t)\n",
    "    \n",
    "    data.update(data2)"
   ]
  },
  {
   "cell_type": "raw",
   "metadata": {},
   "source": [
    "generate(data)"
   ]
  },
  {
   "cell_type": "code",
   "execution_count": 3,
   "metadata": {},
   "outputs": [],
   "source": [
    "def replace_tags(string):\n",
    "    \"\"\"Takes in a string with tags: |@ and @| and returns {{ and }} respectively. This is because Python strings can't have double curly braces.\n",
    "\n",
    "    Args:\n",
    "        string (str): String to be processed, can be multi-line.\n",
    "\n",
    "    Returns:\n",
    "        string (str): returns string with tags replaced with curly braces.\n",
    "    \"\"\"\n",
    "    return string.replace('|@','{{').replace('@|','}}')\n",
    "\n",
    "parsed_q = pbs.read_md_problem('/Users/firasm/Sync/EL/Physics OER Bank/scripts/md_file_standards/q01_multiple-choice/q01_multiple-choice.md')"
   ]
  },
  {
   "cell_type": "code",
   "execution_count": 4,
   "metadata": {},
   "outputs": [
    {
     "data": {
      "text/plain": [
       "{'header': {'title': 'Distance travelled',\n",
       "  'topic': 'Kinematics',\n",
       "  'author': 'Firas Moosvi',\n",
       "  'source': 'original',\n",
       "  'template_version': 0.2,\n",
       "  'outcomes': ['LO.kinematics.2305', 'LO.kinematics.2304'],\n",
       "  'tags': ['quiz', 'homework'],\n",
       "  'assets': None,\n",
       "  'server': 'import random\\nimport pandas as pd\\nfrom collections import defaultdict\\nnested_dict = lambda: defaultdict(nested_dict)\\n\\n# Start problem code\\n\\ndata2 = nested_dict()\\n\\n# define or load names/items/objects from server files\\nnames = pd.read_csv(\"data/names.csv\")[\"Names\"].tolist()\\nmanual_vehicles = pd.read_csv(\"data/manual_vehicles.csv\")[\"Manual Vehicles\"].tolist()\\n\\n# store phrases etc\\ndata2[\"params\"][\"vars\"][\"name\"] = random.choice(names)\\ndata2[\"params\"][\"vars\"][\"vehicle\"] = random.choice(manual_vehicles)\\ndata2[\"params\"][\"vars\"][\"units\"] = \"m/s\"\\ndata2[\"params\"][\"vars\"][\"digits_after_decimal\"] = 2\\n\\n# Randomize Variables\\nv = random.randint(2,7)\\nt = random.randint(5,10)\\n\\n# store the variables in the dictionary \"params\"\\ndata2[\"params\"][\"v\"] = v\\ndata2[\"params\"][\"t\"] = t\\n\\n# define possible answers\\ndata2[\"params\"][\"part1\"][\"ans1\"][\"value\"] = 42\\ndata2[\"params\"][\"part1\"][\"ans1\"][\"correct\"] = False\\n\\ndata2[\"params\"][\"part1\"][\"ans2\"][\"value\"] = v*t\\ndata2[\"params\"][\"part1\"][\"ans2\"][\"correct\"] = True\\n\\ndata2[\"params\"][\"part1\"][\"ans3\"][\"value\"] = v+t\\ndata2[\"params\"][\"part1\"][\"ans3\"][\"correct\"] = False\\n\\ndata2[\"params\"][\"part1\"][\"ans4\"][\"value\"] = v/t\\ndata2[\"params\"][\"part1\"][\"ans4\"][\"correct\"] = False\\n\\ndata2[\"params\"][\"part1\"][\"ans5\"][\"value\"] = v-t\\ndata2[\"params\"][\"part1\"][\"ans5\"][\"correct\"] = False\\n\\ndata2[\"params\"][\"part1\"][\"ans6\"][\"value\"] = 1.3*(v-t)\\ndata2[\"params\"][\"part1\"][\"ans6\"][\"correct\"] = False\\n\\n# define correct answers\\ndata2[\"correct_answers\"][\"part1\"] = data2[\"params\"][\"part1\"][\"ans1\"][\"value\"]\\n\\n# Update the data object with a new dict\\ndata.update(data2)\\n',\n",
       "  'part1': {'type': 'multiple-choice',\n",
       "   'pl-customizations': {'allow-blank': True}}},\n",
       " 'body_parts': {'title': '# {{ params.vars.title }}\\n',\n",
       "  'part1': '## Part 1\\n\\n{{ params.vars.name }} is traveling on {{ params.vars.vehicle }} at {{ params.v }} {{ params.vars.units }}.\\nHow far does {{ params.vars.name }} travel in {{ params.t }} seconds, assuming they continue at the same velocity?\\n\\n### Answer Section\\n\\n- {{ params.part1.ans1.value }} {{ params.vars.units}}\\n- {{ params.part1.ans2.value }} {{ params.vars.units}}\\n- {{ params.part1.ans3.value }} {{ params.vars.units}}\\n- {{ params.part1.ans4.value }} {{ params.vars.units}}\\n- {{ params.part1.ans5.value }} {{ params.vars.units}}\\n- {{ params.part1.ans6.value }} {{ params.vars.units}}\\n',\n",
       "  'Rubric': '## Rubric\\n\\nThis should be hidden from students until after the deadline.\\n',\n",
       "  'Solution': '## Solution\\n\\nThis should never be revealed to students.\\n',\n",
       "  'Comments': '## Comments\\n\\nThese are random comments associated with this question.\\n',\n",
       "  'preamble': ''},\n",
       " 'num_parts': 1,\n",
       " 'body_parts_split': {'part1': {'title': 'Part 1',\n",
       "   'answer': {'title': 'Answer Section\\n',\n",
       "    'content': '- {{ params.part1.ans1.value }} {{ params.vars.units}}\\n- {{ params.part1.ans2.value }} {{ params.vars.units}}\\n- {{ params.part1.ans3.value }} {{ params.vars.units}}\\n- {{ params.part1.ans4.value }} {{ params.vars.units}}\\n- {{ params.part1.ans5.value }} {{ params.vars.units}}\\n- {{ params.part1.ans6.value }} {{ params.vars.units}}\\n'},\n",
       "   'content': '{{ params.vars.name }} is traveling on {{ params.vars.vehicle }} at {{ params.v }} {{ params.vars.units }}.\\nHow far does {{ params.vars.name }} travel in {{ params.t }} seconds, assuming they continue at the same velocity?\\n'}}}"
      ]
     },
     "execution_count": 4,
     "metadata": {},
     "output_type": "execute_result"
    }
   ],
   "source": [
    "parsed_q"
   ]
  },
  {
   "cell_type": "code",
   "execution_count": 5,
   "metadata": {},
   "outputs": [],
   "source": [
    "def process_multiple_choice(part_name,parsed_question, data_dict):\n",
    "    \"\"\"\n",
    "    Args:\n",
    "        output_path (Path): [description]\n",
    "        parsed_question (dict): [description]\n",
    "        data_dict (dict)\n",
    "    \n",
    "    Returns:\n",
    "        str: Multiple choice question is returned as a string with PL-compliant syntax.\n",
    "    \"\"\"\n",
    "\n",
    "    html = f\"\"\"<pl-question-panel>\\n\\t<p>{parsed_q['body_parts_split'][part_name]['content']}\\t</p>\\n\\n\"\"\"\n",
    "    \n",
    "    pl_customizations = \" \".join([f'{k} = \"{v}\"' for k,v in parsed_question['header'][part_name]['pl-customizations'].items()]) # PL-customizations\n",
    "    html += f\"\"\"<pl-multiple-choice answers-name=\"{part_name}\" {pl_customizations} >\\n\"\"\"\n",
    "\n",
    "    for ans in data_dict['params'][f'{part_name}'].keys():\n",
    "        html += f\"\\t<pl-answer correct= |@ params.{part_name}.{ans}.correct @| > |@ params.part{part_name}.{ans}.value @| |@ params.{part_name}.units @| </pl-answer>\\n\"\n",
    "\n",
    "    html += '</pl-multiple-choice>\\n' \n",
    "\n",
    "    return replace_tags(html)"
   ]
  },
  {
   "cell_type": "code",
   "execution_count": 6,
   "metadata": {},
   "outputs": [],
   "source": [
    "exec('data = {}\\n'+parsed_q['header']['server'])"
   ]
  },
  {
   "cell_type": "code",
   "execution_count": 7,
   "metadata": {},
   "outputs": [
    {
     "data": {
      "text/plain": [
       "{'title': '# {{ params.vars.title }}\\n',\n",
       " 'part1': '## Part 1\\n\\n{{ params.vars.name }} is traveling on {{ params.vars.vehicle }} at {{ params.v }} {{ params.vars.units }}.\\nHow far does {{ params.vars.name }} travel in {{ params.t }} seconds, assuming they continue at the same velocity?\\n\\n### Answer Section\\n\\n- {{ params.part1.ans1.value }} {{ params.vars.units}}\\n- {{ params.part1.ans2.value }} {{ params.vars.units}}\\n- {{ params.part1.ans3.value }} {{ params.vars.units}}\\n- {{ params.part1.ans4.value }} {{ params.vars.units}}\\n- {{ params.part1.ans5.value }} {{ params.vars.units}}\\n- {{ params.part1.ans6.value }} {{ params.vars.units}}\\n',\n",
       " 'Rubric': '## Rubric\\n\\nThis should be hidden from students until after the deadline.\\n',\n",
       " 'Solution': '## Solution\\n\\nThis should never be revealed to students.\\n',\n",
       " 'Comments': '## Comments\\n\\nThese are random comments associated with this question.\\n',\n",
       " 'preamble': ''}"
      ]
     },
     "execution_count": 7,
     "metadata": {},
     "output_type": "execute_result"
    }
   ],
   "source": [
    "parsed_q['body_parts']"
   ]
  },
  {
   "cell_type": "code",
   "execution_count": 8,
   "metadata": {},
   "outputs": [],
   "source": [
    "if parsed_q['body_parts']['preamble']:\n",
    "    \n",
    "    print('hello')"
   ]
  },
  {
   "cell_type": "code",
   "execution_count": 9,
   "metadata": {},
   "outputs": [
    {
     "data": {
      "text/plain": [
       "{'title': '# {{ params.vars.title }}\\n',\n",
       " 'part1': '## Part 1\\n\\n{{ params.vars.name }} is traveling on {{ params.vars.vehicle }} at {{ params.v }} {{ params.vars.units }}.\\nHow far does {{ params.vars.name }} travel in {{ params.t }} seconds, assuming they continue at the same velocity?\\n\\n### Answer Section\\n\\n- {{ params.part1.ans1.value }} {{ params.vars.units}}\\n- {{ params.part1.ans2.value }} {{ params.vars.units}}\\n- {{ params.part1.ans3.value }} {{ params.vars.units}}\\n- {{ params.part1.ans4.value }} {{ params.vars.units}}\\n- {{ params.part1.ans5.value }} {{ params.vars.units}}\\n- {{ params.part1.ans6.value }} {{ params.vars.units}}\\n',\n",
       " 'Rubric': '## Rubric\\n\\nThis should be hidden from students until after the deadline.\\n',\n",
       " 'Solution': '## Solution\\n\\nThis should never be revealed to students.\\n',\n",
       " 'Comments': '## Comments\\n\\nThese are random comments associated with this question.\\n',\n",
       " 'preamble': ''}"
      ]
     },
     "execution_count": 9,
     "metadata": {},
     "output_type": "execute_result"
    }
   ],
   "source": [
    "parsed_q['body_parts']#['part1']"
   ]
  },
  {
   "cell_type": "code",
   "execution_count": 10,
   "metadata": {},
   "outputs": [
    {
     "data": {
      "text/plain": [
       "{'header': {'title': 'Distance travelled',\n",
       "  'topic': 'Kinematics',\n",
       "  'author': 'Firas Moosvi',\n",
       "  'source': 'original',\n",
       "  'template_version': 0.2,\n",
       "  'outcomes': ['LO.kinematics.2305', 'LO.kinematics.2304'],\n",
       "  'tags': ['quiz', 'homework'],\n",
       "  'assets': None,\n",
       "  'server': 'import random\\nimport pandas as pd\\nfrom collections import defaultdict\\nnested_dict = lambda: defaultdict(nested_dict)\\n\\n# Start problem code\\n\\ndata2 = nested_dict()\\n\\n# define or load names/items/objects from server files\\nnames = pd.read_csv(\"data/names.csv\")[\"Names\"].tolist()\\nmanual_vehicles = pd.read_csv(\"data/manual_vehicles.csv\")[\"Manual Vehicles\"].tolist()\\n\\n# store phrases etc\\ndata2[\"params\"][\"vars\"][\"name\"] = random.choice(names)\\ndata2[\"params\"][\"vars\"][\"vehicle\"] = random.choice(manual_vehicles)\\ndata2[\"params\"][\"vars\"][\"units\"] = \"m/s\"\\ndata2[\"params\"][\"vars\"][\"digits_after_decimal\"] = 2\\n\\n# Randomize Variables\\nv = random.randint(2,7)\\nt = random.randint(5,10)\\n\\n# store the variables in the dictionary \"params\"\\ndata2[\"params\"][\"v\"] = v\\ndata2[\"params\"][\"t\"] = t\\n\\n# define possible answers\\ndata2[\"params\"][\"part1\"][\"ans1\"][\"value\"] = 42\\ndata2[\"params\"][\"part1\"][\"ans1\"][\"correct\"] = False\\n\\ndata2[\"params\"][\"part1\"][\"ans2\"][\"value\"] = v*t\\ndata2[\"params\"][\"part1\"][\"ans2\"][\"correct\"] = True\\n\\ndata2[\"params\"][\"part1\"][\"ans3\"][\"value\"] = v+t\\ndata2[\"params\"][\"part1\"][\"ans3\"][\"correct\"] = False\\n\\ndata2[\"params\"][\"part1\"][\"ans4\"][\"value\"] = v/t\\ndata2[\"params\"][\"part1\"][\"ans4\"][\"correct\"] = False\\n\\ndata2[\"params\"][\"part1\"][\"ans5\"][\"value\"] = v-t\\ndata2[\"params\"][\"part1\"][\"ans5\"][\"correct\"] = False\\n\\ndata2[\"params\"][\"part1\"][\"ans6\"][\"value\"] = 1.3*(v-t)\\ndata2[\"params\"][\"part1\"][\"ans6\"][\"correct\"] = False\\n\\n# define correct answers\\ndata2[\"correct_answers\"][\"part1\"] = data2[\"params\"][\"part1\"][\"ans1\"][\"value\"]\\n\\n# Update the data object with a new dict\\ndata.update(data2)\\n',\n",
       "  'part1': {'type': 'multiple-choice',\n",
       "   'pl-customizations': {'allow-blank': True}}},\n",
       " 'body_parts': {'title': '# {{ params.vars.title }}\\n',\n",
       "  'part1': '## Part 1\\n\\n{{ params.vars.name }} is traveling on {{ params.vars.vehicle }} at {{ params.v }} {{ params.vars.units }}.\\nHow far does {{ params.vars.name }} travel in {{ params.t }} seconds, assuming they continue at the same velocity?\\n\\n### Answer Section\\n\\n- {{ params.part1.ans1.value }} {{ params.vars.units}}\\n- {{ params.part1.ans2.value }} {{ params.vars.units}}\\n- {{ params.part1.ans3.value }} {{ params.vars.units}}\\n- {{ params.part1.ans4.value }} {{ params.vars.units}}\\n- {{ params.part1.ans5.value }} {{ params.vars.units}}\\n- {{ params.part1.ans6.value }} {{ params.vars.units}}\\n',\n",
       "  'Rubric': '## Rubric\\n\\nThis should be hidden from students until after the deadline.\\n',\n",
       "  'Solution': '## Solution\\n\\nThis should never be revealed to students.\\n',\n",
       "  'Comments': '## Comments\\n\\nThese are random comments associated with this question.\\n',\n",
       "  'preamble': ''},\n",
       " 'num_parts': 1,\n",
       " 'body_parts_split': {'part1': {'title': 'Part 1',\n",
       "   'answer': {'title': 'Answer Section\\n',\n",
       "    'content': '- {{ params.part1.ans1.value }} {{ params.vars.units}}\\n- {{ params.part1.ans2.value }} {{ params.vars.units}}\\n- {{ params.part1.ans3.value }} {{ params.vars.units}}\\n- {{ params.part1.ans4.value }} {{ params.vars.units}}\\n- {{ params.part1.ans5.value }} {{ params.vars.units}}\\n- {{ params.part1.ans6.value }} {{ params.vars.units}}\\n'},\n",
       "   'content': '{{ params.vars.name }} is traveling on {{ params.vars.vehicle }} at {{ params.v }} {{ params.vars.units }}.\\nHow far does {{ params.vars.name }} travel in {{ params.t }} seconds, assuming they continue at the same velocity?\\n'}}}"
      ]
     },
     "execution_count": 10,
     "metadata": {},
     "output_type": "execute_result"
    }
   ],
   "source": [
    "parsed_q"
   ]
  },
  {
   "cell_type": "code",
   "execution_count": 11,
   "metadata": {},
   "outputs": [
    {
     "data": {
      "text/plain": [
       "{'type': 'multiple-choice', 'pl-customizations': {'allow-blank': True}}"
      ]
     },
     "execution_count": 11,
     "metadata": {},
     "output_type": "execute_result"
    }
   ],
   "source": [
    "parsed_q['header']['part1']"
   ]
  },
  {
   "cell_type": "code",
   "execution_count": 12,
   "metadata": {},
   "outputs": [
    {
     "data": {
      "text/plain": [
       "'<pl-question-panel>\\n\\t<p>{{ params.vars.name }} is traveling on {{ params.vars.vehicle }} at {{ params.v }} {{ params.vars.units }}.\\nHow far does {{ params.vars.name }} travel in {{ params.t }} seconds, assuming they continue at the same velocity?\\n\\t</p>\\n\\n<pl-multiple-choice answers-name=\"part1\" allow-blank = \"True\" >\\n\\t<pl-answer correct= {{ params.part1.ans1.correct }} > {{ params.partpart1.ans1.value }} {{ params.part1.units }} </pl-answer>\\n\\t<pl-answer correct= {{ params.part1.ans2.correct }} > {{ params.partpart1.ans2.value }} {{ params.part1.units }} </pl-answer>\\n\\t<pl-answer correct= {{ params.part1.ans3.correct }} > {{ params.partpart1.ans3.value }} {{ params.part1.units }} </pl-answer>\\n\\t<pl-answer correct= {{ params.part1.ans4.correct }} > {{ params.partpart1.ans4.value }} {{ params.part1.units }} </pl-answer>\\n\\t<pl-answer correct= {{ params.part1.ans5.correct }} > {{ params.partpart1.ans5.value }} {{ params.part1.units }} </pl-answer>\\n\\t<pl-answer correct= {{ params.part1.ans6.correct }} > {{ params.partpart1.ans6.value }} {{ params.part1.units }} </pl-answer>\\n</pl-multiple-choice>\\n'"
      ]
     },
     "execution_count": 12,
     "metadata": {},
     "output_type": "execute_result"
    }
   ],
   "source": [
    "process_multiple_choice('part1',parsed_q,data)"
   ]
  },
  {
   "cell_type": "code",
   "execution_count": 13,
   "metadata": {},
   "outputs": [
    {
     "data": {
      "text/plain": [
       "{'part1': {'title': 'Part 1',\n",
       "  'answer': {'title': 'Answer Section\\n',\n",
       "   'content': '- {{ params.part1.ans1.value }} {{ params.vars.units}}\\n- {{ params.part1.ans2.value }} {{ params.vars.units}}\\n- {{ params.part1.ans3.value }} {{ params.vars.units}}\\n- {{ params.part1.ans4.value }} {{ params.vars.units}}\\n- {{ params.part1.ans5.value }} {{ params.vars.units}}\\n- {{ params.part1.ans6.value }} {{ params.vars.units}}\\n'},\n",
       "  'content': '{{ params.vars.name }} is traveling on {{ params.vars.vehicle }} at {{ params.v }} {{ params.vars.units }}.\\nHow far does {{ params.vars.name }} travel in {{ params.t }} seconds, assuming they continue at the same velocity?\\n'}}"
      ]
     },
     "execution_count": 13,
     "metadata": {},
     "output_type": "execute_result"
    }
   ],
   "source": [
    "pbs.split_body_parts(1,parsed_q['body_parts'])"
   ]
  },
  {
   "cell_type": "code",
   "execution_count": 14,
   "metadata": {},
   "outputs": [
    {
     "data": {
      "text/plain": [
       "'## Part 1\\n\\n{{ params.vars.name }} is traveling on {{ params.vars.vehicle }} at {{ params.v }} {{ params.vars.units }}.\\nHow far does {{ params.vars.name }} travel in {{ params.t }} seconds, assuming they continue at the same velocity?\\n\\n### Answer Section\\n\\n- {{ params.part1.ans1.value }} {{ params.vars.units}}\\n- {{ params.part1.ans2.value }} {{ params.vars.units}}\\n- {{ params.part1.ans3.value }} {{ params.vars.units}}\\n- {{ params.part1.ans4.value }} {{ params.vars.units}}\\n- {{ params.part1.ans5.value }} {{ params.vars.units}}\\n- {{ params.part1.ans6.value }} {{ params.vars.units}}\\n'"
      ]
     },
     "execution_count": 14,
     "metadata": {},
     "output_type": "execute_result"
    }
   ],
   "source": [
    "parsed_q['body_parts']['part1']"
   ]
  },
  {
   "cell_type": "code",
   "execution_count": 15,
   "metadata": {},
   "outputs": [
    {
     "name": "stdout",
     "output_type": "stream",
     "text": [
      "1\n"
     ]
    }
   ],
   "source": [
    "for i in range(1,2):\n",
    "    print(i)"
   ]
  },
  {
   "cell_type": "code",
   "execution_count": 16,
   "metadata": {},
   "outputs": [],
   "source": [
    "if parsed_q['body_parts_split']['part1']['content'] == '':\n",
    "    print('hello')"
   ]
  },
  {
   "cell_type": "code",
   "execution_count": 17,
   "metadata": {},
   "outputs": [
    {
     "data": {
      "text/plain": [
       "str"
      ]
     },
     "execution_count": 17,
     "metadata": {},
     "output_type": "execute_result"
    }
   ],
   "source": [
    "type(parsed_q['body_parts_split']['part1']['content'])"
   ]
  },
  {
   "cell_type": "code",
   "execution_count": 18,
   "metadata": {},
   "outputs": [
    {
     "name": "stdout",
     "output_type": "stream",
     "text": [
      "<pl-question-panel>\n",
      "\t<p>{{ params.vars.name }} is traveling on {{ params.vars.vehicle }} at {{ params.v }} {{ params.vars.units }}.\n",
      "How far does {{ params.vars.name }} travel in {{ params.t }} seconds, assuming they continue at the same velocity?\n",
      "\t</p>\n",
      "\n",
      "<pl-multiple-choice answers-name=\"part1\" allow-blank = \"True\" >\n",
      "\t<pl-answer correct= {{ params.part1.ans1.correct }} > {{ params.partpart1.ans1.value }} {{ params.part1.units }} </pl-answer>\n",
      "\t<pl-answer correct= {{ params.part1.ans2.correct }} > {{ params.partpart1.ans2.value }} {{ params.part1.units }} </pl-answer>\n",
      "\t<pl-answer correct= {{ params.part1.ans3.correct }} > {{ params.partpart1.ans3.value }} {{ params.part1.units }} </pl-answer>\n",
      "\t<pl-answer correct= {{ params.part1.ans4.correct }} > {{ params.partpart1.ans4.value }} {{ params.part1.units }} </pl-answer>\n",
      "\t<pl-answer correct= {{ params.part1.ans5.correct }} > {{ params.partpart1.ans5.value }} {{ params.part1.units }} </pl-answer>\n",
      "\t<pl-answer correct= {{ params.part1.ans6.correct }} > {{ params.partpart1.ans6.value }} {{ params.part1.units }} </pl-answer>\n",
      "</pl-multiple-choice>\n",
      "\n"
     ]
    }
   ],
   "source": [
    "print(process_multiple_choice('part1',parsed_q,data))"
   ]
  },
  {
   "cell_type": "code",
   "execution_count": 19,
   "metadata": {},
   "outputs": [],
   "source": [
    "def write_server_py(output_path,parsed_question):\n",
    "    \"\"\"\n",
    "    Args:\n",
    "        output_path ([type]): [description]\n",
    "        parsed_question ([type]): [description]\n",
    "    \"\"\"\n",
    "    \n",
    "    try:\n",
    "        imp, func = parsed_q['header']['server'].split('# Start problem code')\n",
    "    except:\n",
    "        raise\n",
    "    \n",
    "    (output_path / \"server.py\").write_text(imp+'def generate(data):'+func.replace('\\n','\\n\\t'))\n",
    "    \n",
    "    "
   ]
  },
  {
   "cell_type": "code",
   "execution_count": 20,
   "metadata": {},
   "outputs": [
    {
     "data": {
      "text/plain": [
       "{'header': {'title': 'Distance travelled',\n",
       "  'topic': 'Kinematics',\n",
       "  'author': 'Firas Moosvi',\n",
       "  'source': 'original',\n",
       "  'template_version': 0.2,\n",
       "  'outcomes': ['LO.kinematics.2305', 'LO.kinematics.2304'],\n",
       "  'tags': ['quiz', 'homework'],\n",
       "  'assets': None,\n",
       "  'server': 'import random\\nimport pandas as pd\\nfrom collections import defaultdict\\nnested_dict = lambda: defaultdict(nested_dict)\\n\\n# Start problem code\\n\\ndata2 = nested_dict()\\n\\n# define or load names/items/objects from server files\\nnames = pd.read_csv(\"data/names.csv\")[\"Names\"].tolist()\\nmanual_vehicles = pd.read_csv(\"data/manual_vehicles.csv\")[\"Manual Vehicles\"].tolist()\\n\\n# store phrases etc\\ndata2[\"params\"][\"vars\"][\"name\"] = random.choice(names)\\ndata2[\"params\"][\"vars\"][\"vehicle\"] = random.choice(manual_vehicles)\\ndata2[\"params\"][\"vars\"][\"units\"] = \"m/s\"\\ndata2[\"params\"][\"vars\"][\"digits_after_decimal\"] = 2\\n\\n# Randomize Variables\\nv = random.randint(2,7)\\nt = random.randint(5,10)\\n\\n# store the variables in the dictionary \"params\"\\ndata2[\"params\"][\"v\"] = v\\ndata2[\"params\"][\"t\"] = t\\n\\n# define possible answers\\ndata2[\"params\"][\"part1\"][\"ans1\"][\"value\"] = 42\\ndata2[\"params\"][\"part1\"][\"ans1\"][\"correct\"] = False\\n\\ndata2[\"params\"][\"part1\"][\"ans2\"][\"value\"] = v*t\\ndata2[\"params\"][\"part1\"][\"ans2\"][\"correct\"] = True\\n\\ndata2[\"params\"][\"part1\"][\"ans3\"][\"value\"] = v+t\\ndata2[\"params\"][\"part1\"][\"ans3\"][\"correct\"] = False\\n\\ndata2[\"params\"][\"part1\"][\"ans4\"][\"value\"] = v/t\\ndata2[\"params\"][\"part1\"][\"ans4\"][\"correct\"] = False\\n\\ndata2[\"params\"][\"part1\"][\"ans5\"][\"value\"] = v-t\\ndata2[\"params\"][\"part1\"][\"ans5\"][\"correct\"] = False\\n\\ndata2[\"params\"][\"part1\"][\"ans6\"][\"value\"] = 1.3*(v-t)\\ndata2[\"params\"][\"part1\"][\"ans6\"][\"correct\"] = False\\n\\n# define correct answers\\ndata2[\"correct_answers\"][\"part1\"] = data2[\"params\"][\"part1\"][\"ans1\"][\"value\"]\\n\\n# Update the data object with a new dict\\ndata.update(data2)\\n',\n",
       "  'part1': {'type': 'multiple-choice',\n",
       "   'pl-customizations': {'allow-blank': True}}},\n",
       " 'body_parts': {'title': '# {{ params.vars.title }}\\n',\n",
       "  'part1': '## Part 1\\n\\n{{ params.vars.name }} is traveling on {{ params.vars.vehicle }} at {{ params.v }} {{ params.vars.units }}.\\nHow far does {{ params.vars.name }} travel in {{ params.t }} seconds, assuming they continue at the same velocity?\\n\\n### Answer Section\\n\\n- {{ params.part1.ans1.value }} {{ params.vars.units}}\\n- {{ params.part1.ans2.value }} {{ params.vars.units}}\\n- {{ params.part1.ans3.value }} {{ params.vars.units}}\\n- {{ params.part1.ans4.value }} {{ params.vars.units}}\\n- {{ params.part1.ans5.value }} {{ params.vars.units}}\\n- {{ params.part1.ans6.value }} {{ params.vars.units}}\\n',\n",
       "  'Rubric': '## Rubric\\n\\nThis should be hidden from students until after the deadline.\\n',\n",
       "  'Solution': '## Solution\\n\\nThis should never be revealed to students.\\n',\n",
       "  'Comments': '## Comments\\n\\nThese are random comments associated with this question.\\n',\n",
       "  'preamble': ''},\n",
       " 'num_parts': 1,\n",
       " 'body_parts_split': {'part1': {'title': 'Part 1',\n",
       "   'answer': {'title': 'Answer Section\\n',\n",
       "    'content': '- {{ params.part1.ans1.value }} {{ params.vars.units}}\\n- {{ params.part1.ans2.value }} {{ params.vars.units}}\\n- {{ params.part1.ans3.value }} {{ params.vars.units}}\\n- {{ params.part1.ans4.value }} {{ params.vars.units}}\\n- {{ params.part1.ans5.value }} {{ params.vars.units}}\\n- {{ params.part1.ans6.value }} {{ params.vars.units}}\\n'},\n",
       "   'content': '{{ params.vars.name }} is traveling on {{ params.vars.vehicle }} at {{ params.v }} {{ params.vars.units }}.\\nHow far does {{ params.vars.name }} travel in {{ params.t }} seconds, assuming they continue at the same velocity?\\n'}}}"
      ]
     },
     "execution_count": 20,
     "metadata": {},
     "output_type": "execute_result"
    }
   ],
   "source": [
    "def defdict_to_dict(defdict, finaldict):\n",
    "    # pass in an empty dict for finaldict\n",
    "    for k, v in defdict.items():\n",
    "        if isinstance(v, defaultdict):\n",
    "            # new level created and that is the new value\n",
    "            finaldict[k] = defdict_to_dict(v, {})\n",
    "        else:\n",
    "            finaldict[k] = v\n",
    "    return finaldict\n",
    "\n",
    "defdict_to_dict(parsed_q, {})"
   ]
  },
  {
   "cell_type": "code",
   "execution_count": 21,
   "metadata": {},
   "outputs": [
    {
     "data": {
      "text/plain": [
       "{'header': {'title': 'Distance travelled',\n",
       "  'topic': 'Kinematics',\n",
       "  'author': 'Firas Moosvi',\n",
       "  'source': 'original',\n",
       "  'template_version': 0.2,\n",
       "  'outcomes': ['LO.kinematics.2305', 'LO.kinematics.2304'],\n",
       "  'tags': ['quiz', 'homework'],\n",
       "  'assets': None,\n",
       "  'server': 'import random\\nimport pandas as pd\\nfrom collections import defaultdict\\nnested_dict = lambda: defaultdict(nested_dict)\\n\\n# Start problem code\\n\\ndata2 = nested_dict()\\n\\n# define or load names/items/objects from server files\\nnames = pd.read_csv(\"data/names.csv\")[\"Names\"].tolist()\\nmanual_vehicles = pd.read_csv(\"data/manual_vehicles.csv\")[\"Manual Vehicles\"].tolist()\\n\\n# store phrases etc\\ndata2[\"params\"][\"vars\"][\"name\"] = random.choice(names)\\ndata2[\"params\"][\"vars\"][\"vehicle\"] = random.choice(manual_vehicles)\\ndata2[\"params\"][\"vars\"][\"units\"] = \"m/s\"\\ndata2[\"params\"][\"vars\"][\"digits_after_decimal\"] = 2\\n\\n# Randomize Variables\\nv = random.randint(2,7)\\nt = random.randint(5,10)\\n\\n# store the variables in the dictionary \"params\"\\ndata2[\"params\"][\"v\"] = v\\ndata2[\"params\"][\"t\"] = t\\n\\n# define possible answers\\ndata2[\"params\"][\"part1\"][\"ans1\"][\"value\"] = 42\\ndata2[\"params\"][\"part1\"][\"ans1\"][\"correct\"] = False\\n\\ndata2[\"params\"][\"part1\"][\"ans2\"][\"value\"] = v*t\\ndata2[\"params\"][\"part1\"][\"ans2\"][\"correct\"] = True\\n\\ndata2[\"params\"][\"part1\"][\"ans3\"][\"value\"] = v+t\\ndata2[\"params\"][\"part1\"][\"ans3\"][\"correct\"] = False\\n\\ndata2[\"params\"][\"part1\"][\"ans4\"][\"value\"] = v/t\\ndata2[\"params\"][\"part1\"][\"ans4\"][\"correct\"] = False\\n\\ndata2[\"params\"][\"part1\"][\"ans5\"][\"value\"] = v-t\\ndata2[\"params\"][\"part1\"][\"ans5\"][\"correct\"] = False\\n\\ndata2[\"params\"][\"part1\"][\"ans6\"][\"value\"] = 1.3*(v-t)\\ndata2[\"params\"][\"part1\"][\"ans6\"][\"correct\"] = False\\n\\n# define correct answers\\ndata2[\"correct_answers\"][\"part1\"] = data2[\"params\"][\"part1\"][\"ans1\"][\"value\"]\\n\\n# Update the data object with a new dict\\ndata.update(data2)\\n',\n",
       "  'part1': {'type': 'multiple-choice',\n",
       "   'pl-customizations': {'allow-blank': True}}},\n",
       " 'body_parts': {'title': '# {{ params.vars.title }}\\n',\n",
       "  'part1': '## Part 1\\n\\n{{ params.vars.name }} is traveling on {{ params.vars.vehicle }} at {{ params.v }} {{ params.vars.units }}.\\nHow far does {{ params.vars.name }} travel in {{ params.t }} seconds, assuming they continue at the same velocity?\\n\\n### Answer Section\\n\\n- {{ params.part1.ans1.value }} {{ params.vars.units}}\\n- {{ params.part1.ans2.value }} {{ params.vars.units}}\\n- {{ params.part1.ans3.value }} {{ params.vars.units}}\\n- {{ params.part1.ans4.value }} {{ params.vars.units}}\\n- {{ params.part1.ans5.value }} {{ params.vars.units}}\\n- {{ params.part1.ans6.value }} {{ params.vars.units}}\\n',\n",
       "  'Rubric': '## Rubric\\n\\nThis should be hidden from students until after the deadline.\\n',\n",
       "  'Solution': '## Solution\\n\\nThis should never be revealed to students.\\n',\n",
       "  'Comments': '## Comments\\n\\nThese are random comments associated with this question.\\n',\n",
       "  'preamble': ''},\n",
       " 'num_parts': 1,\n",
       " 'body_parts_split': {'part1': {'title': 'Part 1',\n",
       "   'answer': {'title': 'Answer Section\\n',\n",
       "    'content': '- {{ params.part1.ans1.value }} {{ params.vars.units}}\\n- {{ params.part1.ans2.value }} {{ params.vars.units}}\\n- {{ params.part1.ans3.value }} {{ params.vars.units}}\\n- {{ params.part1.ans4.value }} {{ params.vars.units}}\\n- {{ params.part1.ans5.value }} {{ params.vars.units}}\\n- {{ params.part1.ans6.value }} {{ params.vars.units}}\\n'},\n",
       "   'content': '{{ params.vars.name }} is traveling on {{ params.vars.vehicle }} at {{ params.v }} {{ params.vars.units }}.\\nHow far does {{ params.vars.name }} travel in {{ params.t }} seconds, assuming they continue at the same velocity?\\n'}}}"
      ]
     },
     "execution_count": 21,
     "metadata": {},
     "output_type": "execute_result"
    }
   ],
   "source": [
    "parsed_q"
   ]
  },
  {
   "cell_type": "code",
   "execution_count": null,
   "metadata": {},
   "outputs": [],
   "source": []
  },
  {
   "cell_type": "code",
   "execution_count": 22,
   "metadata": {},
   "outputs": [],
   "source": [
    "write_server_py(pathlib.Path('./'),parsed_q)"
   ]
  },
  {
   "cell_type": "code",
   "execution_count": 23,
   "metadata": {},
   "outputs": [
    {
     "name": "stdout",
     "output_type": "stream",
     "text": [
      "import random\n",
      "import pandas as pd\n",
      "from collections import defaultdict\n",
      "nested_dict = lambda: defaultdict(nested_dict)\n",
      "\n",
      "\n"
     ]
    }
   ],
   "source": [
    "print(parsed_q['header']['server'].split('# Start problem code')[0])"
   ]
  },
  {
   "cell_type": "code",
   "execution_count": 24,
   "metadata": {},
   "outputs": [],
   "source": [
    "imp, func = parsed_q['header']['server'].split('# Start problem code')"
   ]
  },
  {
   "cell_type": "code",
   "execution_count": 25,
   "metadata": {},
   "outputs": [
    {
     "name": "stdout",
     "output_type": "stream",
     "text": [
      "import random\n",
      "import pandas as pd\n",
      "from collections import defaultdict\n",
      "nested_dict = lambda: defaultdict(nested_dict)\n",
      "\n",
      "def generate(data):\n",
      "\t\n",
      "\tdata2 = nested_dict()\n",
      "\t\n",
      "\t# define or load names/items/objects from server files\n",
      "\tnames = pd.read_csv(\"data/names.csv\")[\"Names\"].tolist()\n",
      "\tmanual_vehicles = pd.read_csv(\"data/manual_vehicles.csv\")[\"Manual Vehicles\"].tolist()\n",
      "\t\n",
      "\t# store phrases etc\n",
      "\tdata2[\"params\"][\"vars\"][\"name\"] = random.choice(names)\n",
      "\tdata2[\"params\"][\"vars\"][\"vehicle\"] = random.choice(manual_vehicles)\n",
      "\tdata2[\"params\"][\"vars\"][\"units\"] = \"m/s\"\n",
      "\tdata2[\"params\"][\"vars\"][\"digits_after_decimal\"] = 2\n",
      "\t\n",
      "\t# Randomize Variables\n",
      "\tv = random.randint(2,7)\n",
      "\tt = random.randint(5,10)\n",
      "\t\n",
      "\t# store the variables in the dictionary \"params\"\n",
      "\tdata2[\"params\"][\"v\"] = v\n",
      "\tdata2[\"params\"][\"t\"] = t\n",
      "\t\n",
      "\t# define possible answers\n",
      "\tdata2[\"params\"][\"part1\"][\"ans1\"][\"value\"] = 42\n",
      "\tdata2[\"params\"][\"part1\"][\"ans1\"][\"correct\"] = False\n",
      "\t\n",
      "\tdata2[\"params\"][\"part1\"][\"ans2\"][\"value\"] = v*t\n",
      "\tdata2[\"params\"][\"part1\"][\"ans2\"][\"correct\"] = True\n",
      "\t\n",
      "\tdata2[\"params\"][\"part1\"][\"ans3\"][\"value\"] = v+t\n",
      "\tdata2[\"params\"][\"part1\"][\"ans3\"][\"correct\"] = False\n",
      "\t\n",
      "\tdata2[\"params\"][\"part1\"][\"ans4\"][\"value\"] = v/t\n",
      "\tdata2[\"params\"][\"part1\"][\"ans4\"][\"correct\"] = False\n",
      "\t\n",
      "\tdata2[\"params\"][\"part1\"][\"ans5\"][\"value\"] = v-t\n",
      "\tdata2[\"params\"][\"part1\"][\"ans5\"][\"correct\"] = False\n",
      "\t\n",
      "\tdata2[\"params\"][\"part1\"][\"ans6\"][\"value\"] = 1.3*(v-t)\n",
      "\tdata2[\"params\"][\"part1\"][\"ans6\"][\"correct\"] = False\n",
      "\t\n",
      "\t# define correct answers\n",
      "\tdata2[\"correct_answers\"][\"part1\"] = data2[\"params\"][\"part1\"][\"ans1\"][\"value\"]\n",
      "\t\n",
      "\t# Update the data object with a new dict\n",
      "\tdata.update(data2)\n",
      "\t\n"
     ]
    }
   ],
   "source": [
    "print(imp+'def generate(data):'+func.replace('\\n','\\n\\t'))"
   ]
  },
  {
   "cell_type": "code",
   "execution_count": 26,
   "metadata": {},
   "outputs": [
    {
     "data": {
      "text/plain": [
       "{'title': '# {{ params.vars.title }}\\n',\n",
       " 'part1': '## Part 1\\n\\n{{ params.vars.name }} is traveling on {{ params.vars.vehicle }} at {{ params.v }} {{ params.vars.units }}.\\nHow far does {{ params.vars.name }} travel in {{ params.t }} seconds, assuming they continue at the same velocity?\\n\\n### Answer Section\\n\\n- {{ params.part1.ans1.value }} {{ params.vars.units}}\\n- {{ params.part1.ans2.value }} {{ params.vars.units}}\\n- {{ params.part1.ans3.value }} {{ params.vars.units}}\\n- {{ params.part1.ans4.value }} {{ params.vars.units}}\\n- {{ params.part1.ans5.value }} {{ params.vars.units}}\\n- {{ params.part1.ans6.value }} {{ params.vars.units}}\\n',\n",
       " 'Rubric': '## Rubric\\n\\nThis should be hidden from students until after the deadline.\\n',\n",
       " 'Solution': '## Solution\\n\\nThis should never be revealed to students.\\n',\n",
       " 'Comments': '## Comments\\n\\nThese are random comments associated with this question.\\n',\n",
       " 'preamble': ''}"
      ]
     },
     "execution_count": 26,
     "metadata": {},
     "output_type": "execute_result"
    }
   ],
   "source": [
    "parsed_q['body_parts']"
   ]
  },
  {
   "cell_type": "code",
   "execution_count": 67,
   "metadata": {},
   "outputs": [
    {
     "data": {
      "text/plain": [
       "'## Part 1\\n\\n{{ params.vars.name }} is traveling on {{ params.vars.vehicle }} at {{ params.v }} {{ params.vars.units }}.\\nHow far does {{ params.vars.name }} travel in {{ params.t }} seconds, assuming they continue at the same velocity?\\n\\n### Answer Section\\n\\n- {{ params.part1.ans1.value }} {{ params.vars.units}}\\n- {{ params.part1.ans2.value }} {{ params.vars.units}}\\n- {{ params.part1.ans3.value }} {{ params.vars.units}}\\n- {{ params.part1.ans4.value }} {{ params.vars.units}}\\n- {{ params.part1.ans5.value }} {{ params.vars.units}}\\n- {{ params.part1.ans6.value }} {{ params.vars.units}}\\n'"
      ]
     },
     "execution_count": 67,
     "metadata": {},
     "output_type": "execute_result"
    }
   ],
   "source": [
    "parsed_q['body_parts']['part1']"
   ]
  },
  {
   "cell_type": "code",
   "execution_count": null,
   "metadata": {},
   "outputs": [],
   "source": [
    "mdit = MarkdownIt()\n",
    "env = {}\n",
    "\n",
    "# Set up tokens by parsing the md file\n",
    "tokens = mdit.parse(body, env)\n",
    "\n",
    "blocks = {}\n",
    "\n",
    "block_count = 0\n",
    "\n",
    "num_titles = 0\n",
    "\n",
    "for x,t in enumerate(tokens):\n",
    "     \n",
    "    if t.tag == 'h1' and t.nesting == 1: # title\n",
    "        blocks['title'] = [x,]\n",
    "        num_titles += 1\n",
    "        \n",
    "    elif t.tag == 'h2' and t.nesting == 1:\n",
    "        block_count += 1\n",
    "        \n",
    "        if block_count == 1:\n",
    "            blocks['block{0}'.format(block_count)] = [x,]\n",
    "        else:\n",
    "            blocks['block{0}'.format(block_count-1)].append(x)\n",
    "            blocks['block{0}'.format(block_count)] = [x,]\n",
    "\n",
    "    #print(t,'\\n')\n",
    "    \n",
    "# Add -1 to the end of the last block\n",
    "blocks['block{0}'.format(block_count)].append(len(tokens))\n",
    "\n",
    "# Assert statements (turn into tests!)\n",
    "assert num_titles == 1, \"I see {0} Level 1 Headers (#) in this file, there should only be one!\".format(num_titles)\n",
    "assert block_count > 1, \"I see {0} Level 2 Headers (##) in this file, there should be at least 1\".format(block_count -1)\n",
    "\n",
    "# Add the end of the title block; # small hack\n",
    "blocks['title'].append(blocks['block1'][0])"
   ]
  },
  {
   "cell_type": "code",
   "execution_count": null,
   "metadata": {},
   "outputs": [],
   "source": []
  },
  {
   "cell_type": "code",
   "execution_count": null,
   "metadata": {},
   "outputs": [],
   "source": []
  },
  {
   "cell_type": "code",
   "execution_count": 12,
   "metadata": {},
   "outputs": [
    {
     "ename": "NameError",
     "evalue": "name 'tokens' is not defined",
     "output_type": "error",
     "traceback": [
      "\u001b[0;31m---------------------------------------------------------------------------\u001b[0m",
      "\u001b[0;31mNameError\u001b[0m                                 Traceback (most recent call last)",
      "\u001b[0;32m<ipython-input-12-1c57b705edbf>\u001b[0m in \u001b[0;36m<module>\u001b[0;34m\u001b[0m\n\u001b[0;32m----> 1\u001b[0;31m \u001b[0mtokens\u001b[0m\u001b[0;34m\u001b[0m\u001b[0;34m\u001b[0m\u001b[0m\n\u001b[0m",
      "\u001b[0;31mNameError\u001b[0m: name 'tokens' is not defined"
     ]
    }
   ],
   "source": [
    "tokens\n"
   ]
  },
  {
   "cell_type": "code",
   "execution_count": null,
   "metadata": {},
   "outputs": [],
   "source": []
  }
 ],
 "metadata": {
  "kernelspec": {
   "display_name": "Python 3",
   "language": "python",
   "name": "python3"
  },
  "language_info": {
   "codemirror_mode": {
    "name": "ipython",
    "version": 3
   },
   "file_extension": ".py",
   "mimetype": "text/x-python",
   "name": "python",
   "nbconvert_exporter": "python",
   "pygments_lexer": "ipython3",
   "version": "3.8.3"
  }
 },
 "nbformat": 4,
 "nbformat_minor": 4
}
