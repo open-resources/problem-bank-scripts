{
 "cells": [
  {
   "cell_type": "markdown",
   "id": "5e3ba3ed-cb24-4195-9933-720e553f4f85",
   "metadata": {
    "user_expressions": []
   },
   "source": [
    "# Backticks Code Replacement Sandbox\n",
    "\n",
    "The purpose of this notebook is to explore the functionality described in [this issue](https://github.com/open-resources/problem_bank_scripts/issues/35), started in [this PR](https://github.com/open-resources/problem_bank_scripts/pull/36) and continued [in this one](https://github.com/open-resources/problem_bank_scripts/pull/42).\n",
    "\n",
    "For example, this\n",
    "```\n",
    "data2[\"params\"][\"part1\"][\"ans1\"][\"value\"] = \"Hello `x` world\"\n",
    "```\n",
    "\n",
    "should get replaced with:\n",
    "```\n",
    "data2[\"params\"][\"part1\"][\"ans1\"][\"value\"] = \"Hello <code>x</code> world\"\n",
    "```\n",
    "\n",
    "Having something we can concretely test will also help us debug future cases where the current functionality breaks and easily adapt/change the behaviour of this function as the PrairieLearn markdown rendering functionality improves.\n"
   ]
  },
  {
   "cell_type": "markdown",
   "id": "8ec2b89e-9d04-4640-9ebc-bb711f8f8d72",
   "metadata": {
    "user_expressions": []
   },
   "source": [
    "## Function that does the conversion"
   ]
  },
  {
   "cell_type": "code",
   "execution_count": 3,
   "id": "2984696a-d33f-42af-b5e0-86d032eadc11",
   "metadata": {
    "tags": []
   },
   "outputs": [],
   "source": [
    "def backticks_to_code_tags(html):\n",
    "    \"\"\"\n",
    "    Describe functionality...\n",
    "\n",
    "    \"\"\"\n",
    "\n",
    "    return html"
   ]
  },
  {
   "cell_type": "markdown",
   "id": "5b587681-c857-4f56-a8b5-604b59b0dfdc",
   "metadata": {
    "user_expressions": []
   },
   "source": [
    "## Case 1: single case of backticks:\n",
    "\n",
    "Test cases:\n",
    "\n",
    "- \"Hello `x+1` world\"\n",
    "- \"`x+1`\"\n",
    "- `x+1`"
   ]
  },
  {
   "cell_type": "code",
   "execution_count": 13,
   "id": "5ee319be-46bb-44f3-b455-53a46d35f99d",
   "metadata": {
    "tags": []
   },
   "outputs": [],
   "source": [
    "# Test backticks_to_code_tags here"
   ]
  },
  {
   "cell_type": "markdown",
   "id": "cb72a799-f6bd-4c49-a55d-798b0d24fc6b",
   "metadata": {
    "user_expressions": []
   },
   "source": [
    "## Case 2: multiple instances of backticks\n",
    "\n",
    "Test cases:\n",
    "\n",
    "\n",
    "- \"Hello `x+1` and `y+5` world\"\n",
    "- `x+1` `y+5`\n"
   ]
  },
  {
   "cell_type": "code",
   "execution_count": 14,
   "id": "b150d3dd-58f2-4aee-bfcd-d784500f62e1",
   "metadata": {
    "tags": []
   },
   "outputs": [],
   "source": [
    "# Test backticks_to_code_tags here"
   ]
  },
  {
   "cell_type": "markdown",
   "id": "000d3d93-4294-4f29-ba01-24bc38b17dcd",
   "metadata": {
    "user_expressions": []
   },
   "source": [
    "## Case 3: Codefence\n",
    "\n",
    "Test cases:\n",
    "\n",
    "- see multi-line string below"
   ]
  },
  {
   "cell_type": "code",
   "execution_count": 15,
   "id": "99d354d1-7cb4-429f-9f57-b4f60de17f52",
   "metadata": {
    "tags": []
   },
   "outputs": [
    {
     "data": {
      "text/plain": [
       "\"\\n```\\nfor i in range(5):\\n\\n    print(i)\\n    print(f'hello work {i}')\\n\\n```\""
      ]
     },
     "execution_count": 15,
     "metadata": {},
     "output_type": "execute_result"
    }
   ],
   "source": [
    "\"\"\"\n",
    "```\n",
    "for i in range(5):\n",
    "\n",
    "    print(i)\n",
    "    print(f'hello work {i}')\n",
    "\n",
    "```\"\"\""
   ]
  },
  {
   "cell_type": "code",
   "execution_count": 16,
   "id": "269588a5-6701-4174-9b63-84006ac9b4ee",
   "metadata": {
    "tags": []
   },
   "outputs": [
    {
     "data": {
      "text/plain": [
       "\" Code block option:\\n```\\nfor i in range(5):\\n\\n    print(i)\\n    print(f'hello work {i}')\\n\\n```\\n\""
      ]
     },
     "execution_count": 16,
     "metadata": {},
     "output_type": "execute_result"
    }
   ],
   "source": [
    "\"\"\" Code block option:\n",
    "```\n",
    "for i in range(5):\n",
    "\n",
    "    print(i)\n",
    "    print(f'hello work {i}')\n",
    "\n",
    "```\n",
    "\"\"\""
   ]
  },
  {
   "cell_type": "code",
   "execution_count": 17,
   "id": "b44cd481-9951-47b2-a1ff-34de5f7447d4",
   "metadata": {
    "tags": []
   },
   "outputs": [
    {
     "data": {
      "text/plain": [
       "\" Code block option:\\n```\\nfor i in range(5):\\n\\n    print(i)\\n    print(f'hello work {i}')\\n\\n```\\nCode block option end\\n\""
      ]
     },
     "execution_count": 17,
     "metadata": {},
     "output_type": "execute_result"
    }
   ],
   "source": [
    "\"\"\" Code block option:\n",
    "```\n",
    "for i in range(5):\n",
    "\n",
    "    print(i)\n",
    "    print(f'hello work {i}')\n",
    "\n",
    "```\n",
    "Code block option end\n",
    "\"\"\""
   ]
  }
 ],
 "metadata": {
  "kernelspec": {
   "display_name": "Python 3 (ipykernel)",
   "language": "python",
   "name": "python3"
  },
  "language_info": {
   "codemirror_mode": {
    "name": "ipython",
    "version": 3
   },
   "file_extension": ".py",
   "mimetype": "text/x-python",
   "name": "python",
   "nbconvert_exporter": "python",
   "pygments_lexer": "ipython3",
   "version": "3.10.2"
  }
 },
 "nbformat": 4,
 "nbformat_minor": 5
}
