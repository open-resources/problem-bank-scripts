{
 "cells": [
  {
   "cell_type": "markdown",
   "id": "5e3ba3ed-cb24-4195-9933-720e553f4f85",
   "metadata": {
    "user_expressions": []
   },
   "source": [
    "# Backticks Code Replacement Sandbox\n",
    "\n",
    "The purpose of this notebook is to explore the functionality described in [this issue](https://github.com/open-resources/problem_bank_scripts/issues/35), started in [this PR](https://github.com/open-resources/problem_bank_scripts/pull/36) and continued [in this one](https://github.com/open-resources/problem_bank_scripts/pull/42).\n",
    "\n",
    "For example, this\n",
    "```\n",
    "data2[\"params\"][\"part1\"][\"ans1\"][\"value\"] = \"Hello `x` world\"\n",
    "```\n",
    "\n",
    "should get replaced with:\n",
    "```\n",
    "data2[\"params\"][\"part1\"][\"ans1\"][\"value\"] = \"Hello <code>x</code> world\"\n",
    "```\n",
    "\n",
    "Having something we can conchtmlely test will also help us debug future cases where the current functionality breaks and easily adapt/change the behaviour of this function as the PrairieLearn markdown rendering functionality improves.\n"
   ]
  },
  {
   "cell_type": "markdown",
   "id": "8ec2b89e-9d04-4640-9ebc-bb711f8f8d72",
   "metadata": {
    "user_expressions": []
   },
   "source": [
    "## Function that does the conversion"
   ]
  },
  {
   "cell_type": "code",
   "execution_count": 1,
   "id": "2984696a-d33f-42af-b5e0-86d032eadc11",
   "metadata": {
    "tags": []
   },
   "outputs": [],
   "source": [
    "import re\n",
    "\n",
    "\n",
    "def backticks_to_code_tags(html: str) -> str:\n",
    "    \"\"\"\n",
    "    Converts backticks to <code> tags, and code fences to <pl-code> tags.\n",
    "\n",
    "    Args:\n",
    "        html (str): The HTML to convert.\n",
    "\n",
    "    \"\"\"\n",
    "    # Because these regexps could be run an arbitrary number of times, its slightly more efficient to compile them once,\n",
    "    #  since  they will always be compiled internally by re if we pass them as strings.\n",
    "    html = re.sub(\n",
    "        r\"```(?P<language>\\w+)?(?(language)(\\{(?P<highlighting>[\\d,-]*)\\})?|)(?P<Code>[^`]+)```\",\n",
    "        r'<pl-code language=\"\\g<language>\" highlight-lines=\"\\g<highlighting>\">\\g<Code></pl-code>',\n",
    "        html,\n",
    "        flags=re.MULTILINE,\n",
    "    )\n",
    "    html = html.replace(' language=\"\"', \"\")  # Remove empty language attributes\n",
    "    html = html.replace(\n",
    "        ' highlight-lines=\"\"', \"\"\n",
    "    )  # Remove empty highlight-lines attributes\n",
    "    html = re.sub(r\"`(?P<Code>[^`]+)`\", r\"<code>\\g<Code></code>\", html)\n",
    "    return html"
   ]
  },
  {
   "cell_type": "markdown",
   "id": "5b587681-c857-4f56-a8b5-604b59b0dfdc",
   "metadata": {
    "user_expressions": []
   },
   "source": [
    "## Case 1: single case of backticks:\n",
    "\n",
    "Test cases:\n",
    "\n",
    "- \"Hello `x+1` world\"\n",
    "- \"`x+1`\"\n",
    "- `x+1`"
   ]
  },
  {
   "cell_type": "code",
   "execution_count": 2,
   "id": "5ee319be-46bb-44f3-b455-53a46d35f99d",
   "metadata": {
    "tags": []
   },
   "outputs": [
    {
     "name": "stdout",
     "output_type": "stream",
     "text": [
      "\"Hello <code>x+1</code> world\"\n",
      "\"<code>x+1</code>\"\n",
      "<code>x+1</code>\n"
     ]
    }
   ],
   "source": [
    "# Test backticks_to_code_tags here\n",
    "for item in ['\"Hello `x+1` world\"', '\"`x+1`\"', \"`x+1`\"]:\n",
    "    print(backticks_to_code_tags(item))"
   ]
  },
  {
   "cell_type": "markdown",
   "id": "cb72a799-f6bd-4c49-a55d-798b0d24fc6b",
   "metadata": {
    "user_expressions": []
   },
   "source": [
    "## Case 2: multiple instances of backticks\n",
    "\n",
    "Test cases:\n",
    "\n",
    "\n",
    "- \"Hello `x+1` and `y+5` world\"\n",
    "- `x+1` `y+5`\n"
   ]
  },
  {
   "cell_type": "code",
   "execution_count": 3,
   "id": "b150d3dd-58f2-4aee-bfcd-d784500f62e1",
   "metadata": {
    "tags": []
   },
   "outputs": [
    {
     "name": "stdout",
     "output_type": "stream",
     "text": [
      "\"Hello <code>x+1</code> and <code>y+5</code> world\"\n",
      "\"<code>x+1</code> <code>y+5</code>\"\n"
     ]
    }
   ],
   "source": [
    "# Test backticks_to_code_tags here\n",
    "for item in ['\"Hello `x+1` and `y+5` world\"', '\"`x+1` `y+5`\"']:\n",
    "    print(backticks_to_code_tags(item))"
   ]
  },
  {
   "cell_type": "markdown",
   "id": "000d3d93-4294-4f29-ba01-24bc38b17dcd",
   "metadata": {
    "user_expressions": []
   },
   "source": [
    "## Case 3: Codefence\n",
    "\n",
    "Test cases:\n",
    "\n",
    "- see multi-line string below"
   ]
  },
  {
   "cell_type": "code",
   "execution_count": 4,
   "id": "99d354d1-7cb4-429f-9f57-b4f60de17f52",
   "metadata": {
    "tags": []
   },
   "outputs": [
    {
     "name": "stdout",
     "output_type": "stream",
     "text": [
      "\n",
      "<pl-code>\n",
      "for i in range(5):\n",
      "\n",
      "    print(i)\n",
      "    print(f'hello work {i}')\n",
      "\n",
      "</pl-code>\n"
     ]
    }
   ],
   "source": [
    "print(\n",
    "    backticks_to_code_tags(\n",
    "        \"\"\"\n",
    "```\n",
    "for i in range(5):\n",
    "\n",
    "    print(i)\n",
    "    print(f'hello work {i}')\n",
    "\n",
    "```\"\"\"\n",
    "    )\n",
    ")"
   ]
  },
  {
   "cell_type": "code",
   "execution_count": 5,
   "id": "269588a5-6701-4174-9b63-84006ac9b4ee",
   "metadata": {
    "tags": []
   },
   "outputs": [
    {
     "name": "stdout",
     "output_type": "stream",
     "text": [
      " Code block option:\n",
      "<pl-code language=\"python\">\n",
      "for i in range(5):\n",
      "\n",
      "    print(i)\n",
      "    print(f'hello work {i}')\n",
      "\n",
      "</pl-code>\n",
      "\n"
     ]
    }
   ],
   "source": [
    "print(\n",
    "    backticks_to_code_tags(\n",
    "        \"\"\" Code block option:\n",
    "```python\n",
    "for i in range(5):\n",
    "\n",
    "    print(i)\n",
    "    print(f'hello work {i}')\n",
    "\n",
    "```\n",
    "\"\"\"\n",
    "    )\n",
    ")"
   ]
  },
  {
   "cell_type": "code",
   "execution_count": 6,
   "id": "b44cd481-9951-47b2-a1ff-34de5f7447d4",
   "metadata": {
    "tags": []
   },
   "outputs": [
    {
     "name": "stdout",
     "output_type": "stream",
     "text": [
      " Code block option:\n",
      "<pl-code language=\"python\" highlight-lines=\"1,3-4\">\n",
      "for i in range(5):\n",
      "\n",
      "    print(i)\n",
      "    print(f'hello work {i}')\n",
      "\n",
      "</pl-code>\n",
      "Code block option end\n",
      "\n"
     ]
    }
   ],
   "source": [
    "print(\n",
    "    backticks_to_code_tags(\n",
    "        \"\"\" Code block option:\n",
    "```python{1,3-4}\n",
    "for i in range(5):\n",
    "\n",
    "    print(i)\n",
    "    print(f'hello work {i}')\n",
    "\n",
    "```\n",
    "Code block option end\n",
    "\"\"\"\n",
    "    )\n",
    ")"
   ]
  }
 ],
 "metadata": {
  "kernelspec": {
   "display_name": "Python 3 (ipykernel)",
   "language": "python",
   "name": "python3"
  },
  "language_info": {
   "codemirror_mode": {
    "name": "ipython",
    "version": 3
   },
   "file_extension": ".py",
   "mimetype": "text/x-python",
   "name": "python",
   "nbconvert_exporter": "python",
   "pygments_lexer": "ipython3",
   "version": "3.11.3"
  }
 },
 "nbformat": 4,
 "nbformat_minor": 5
}
